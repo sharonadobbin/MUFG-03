{
 "cells": [
  {
   "cell_type": "markdown",
   "id": "4cd2f4ce-7a4c-4d0f-a93f-00a3f2acddbe",
   "metadata": {},
   "source": [
    "## Data Acquisition, Preparation, and EDA"
   ]
  },
  {
   "cell_type": "markdown",
   "id": "bfe76320-a4c9-467c-a15b-74ecec38a56b",
   "metadata": {},
   "source": [
    "### Reading a CSV file"
   ]
  },
  {
   "cell_type": "code",
   "execution_count": 16,
   "id": "7f2c528c-a974-4d6a-99f9-cdf6571825d9",
   "metadata": {},
   "outputs": [
    {
     "name": "stdout",
     "output_type": "stream",
     "text": [
      "   sepal_length  sepal_width  petal_length  petal_width species\n",
      "0           5.1          3.5           1.4          0.2  setosa\n",
      "1           4.9          3.0           1.4          0.2  setosa\n",
      "2           4.7          3.2           1.3          0.2  setosa\n",
      "3           4.6          3.1           1.5          0.2  setosa\n",
      "4           5.0          3.6           1.4          0.2  setosa\n",
      "\n",
      "\n",
      "total records\n",
      "      sepal_length  sepal_width  petal_length  petal_width    species\n",
      "0             5.1          3.5           1.4          0.2     setosa\n",
      "1             4.9          3.0           1.4          0.2     setosa\n",
      "2             4.7          3.2           1.3          0.2     setosa\n",
      "3             4.6          3.1           1.5          0.2     setosa\n",
      "4             5.0          3.6           1.4          0.2     setosa\n",
      "..            ...          ...           ...          ...        ...\n",
      "145           6.7          3.0           5.2          2.3  virginica\n",
      "146           6.3          2.5           5.0          1.9  virginica\n",
      "147           6.5          3.0           5.2          2.0  virginica\n",
      "148           6.2          3.4           5.4          2.3  virginica\n",
      "149           5.9          3.0           5.1          1.8  virginica\n",
      "\n",
      "[150 rows x 5 columns]\n",
      "\n",
      "\n",
      " (150, 5)\n"
     ]
    }
   ],
   "source": [
    "import pandas as pd\n",
    "#IRIS dataset - features and target\n",
    "\n",
    "# Read CSV file - giving .head() displays the first five records and .shape gives the total number of rows and cols\n",
    "df_csv = pd.read_csv('iris.csv')\n",
    "print(df_csv.head())\n",
    "print('\\n\\ntotal records\\n', df_csv)\n",
    "print('\\n\\n', df_csv.shape)"
   ]
  },
  {
   "cell_type": "markdown",
   "id": "026156c1-c180-476a-a0a7-95d1cabeacf4",
   "metadata": {},
   "source": [
    "### Reading an Excel file"
   ]
  },
  {
   "cell_type": "code",
   "execution_count": 22,
   "id": "66c1cd39-fed9-4dbc-9c2a-f8643439edab",
   "metadata": {},
   "outputs": [
    {
     "name": "stdout",
     "output_type": "stream",
     "text": [
      "Requirement already satisfied: openpyxl in c:\\users\\sharon dobbin\\appdata\\local\\programs\\python\\python313\\lib\\site-packages (3.1.5)\n",
      "Requirement already satisfied: et-xmlfile in c:\\users\\sharon dobbin\\appdata\\local\\programs\\python\\python313\\lib\\site-packages (from openpyxl) (2.0.0)\n",
      "Note: you may need to restart the kernel to use updated packages.\n"
     ]
    },
    {
     "name": "stderr",
     "output_type": "stream",
     "text": [
      "\n",
      "[notice] A new release of pip is available: 25.1.1 -> 25.2\n",
      "[notice] To update, run: python.exe -m pip install --upgrade pip\n"
     ]
    }
   ],
   "source": [
    "pip install openpyxl"
   ]
  },
  {
   "cell_type": "code",
   "execution_count": 25,
   "id": "db281a4a-327d-4111-b03d-f6f9cdc15e8e",
   "metadata": {},
   "outputs": [
    {
     "name": "stdout",
     "output_type": "stream",
     "text": [
      "      Name  Age   Department\n",
      "0    Alice   25           HR\n",
      "1      Bob   30  Engineering\n",
      "2  Charlie   22    Marketing\n",
      "3    Diana   28      Finance\n"
     ]
    }
   ],
   "source": [
    "# Read Excel file\n",
    "df_excel = pd.read_excel('sample_data.xlsx', sheet_name='Sheet1')\n",
    "print(df_excel.head())\n",
    "\n",
    "#Requires openpyxl or xlrd for .xlsx or .xls files respectively"
   ]
  },
  {
   "cell_type": "markdown",
   "id": "c913ba2a-9783-408d-b90c-afcbd7468109",
   "metadata": {},
   "source": [
    "### Reading a JSON file"
   ]
  },
  {
   "cell_type": "code",
   "execution_count": 27,
   "id": "43d9622f-ec90-4c58-9403-8cd2b75582db",
   "metadata": {},
   "outputs": [
    {
     "name": "stdout",
     "output_type": "stream",
     "text": [
      "      Name  Age   Department\n",
      "0    Alice   25           HR\n",
      "1      Bob   30  Engineering\n",
      "2  Charlie   22    Marketing\n",
      "3    Diana   28      Finance\n"
     ]
    }
   ],
   "source": [
    "# Read JSON file\n",
    "df_json = pd.read_json('sample_data.json')\n",
    "print(df_json.head())\n"
   ]
  },
  {
   "cell_type": "markdown",
   "id": "5bf0cb8c-418e-49a2-85ea-b825e72dd8ad",
   "metadata": {},
   "source": [
    "### Web Scraping with requests and BeautifulSoup"
   ]
  },
  {
   "cell_type": "code",
   "execution_count": 31,
   "id": "6134714a-29f2-49e6-bb83-3056835dd974",
   "metadata": {},
   "outputs": [
    {
     "name": "stdout",
     "output_type": "stream",
     "text": [
      "Requirement already satisfied: requests in c:\\users\\sharon dobbin\\appdata\\local\\programs\\python\\python313\\lib\\site-packages (2.32.4)\n",
      "Requirement already satisfied: beautifulsoup4 in c:\\users\\sharon dobbin\\appdata\\local\\programs\\python\\python313\\lib\\site-packages (4.13.4)\n",
      "Requirement already satisfied: charset_normalizer<4,>=2 in c:\\users\\sharon dobbin\\appdata\\local\\programs\\python\\python313\\lib\\site-packages (from requests) (3.4.3)\n",
      "Requirement already satisfied: idna<4,>=2.5 in c:\\users\\sharon dobbin\\appdata\\local\\programs\\python\\python313\\lib\\site-packages (from requests) (2.10)\n",
      "Requirement already satisfied: urllib3<3,>=1.21.1 in c:\\users\\sharon dobbin\\appdata\\local\\programs\\python\\python313\\lib\\site-packages (from requests) (2.5.0)\n",
      "Requirement already satisfied: certifi>=2017.4.17 in c:\\users\\sharon dobbin\\appdata\\local\\programs\\python\\python313\\lib\\site-packages (from requests) (2025.8.3)\n",
      "Requirement already satisfied: soupsieve>1.2 in c:\\users\\sharon dobbin\\appdata\\local\\programs\\python\\python313\\lib\\site-packages (from beautifulsoup4) (2.7)\n",
      "Requirement already satisfied: typing-extensions>=4.0.0 in c:\\users\\sharon dobbin\\appdata\\local\\programs\\python\\python313\\lib\\site-packages (from beautifulsoup4) (4.13.2)\n",
      "Note: you may need to restart the kernel to use updated packages.\n"
     ]
    },
    {
     "name": "stderr",
     "output_type": "stream",
     "text": [
      "\n",
      "[notice] A new release of pip is available: 25.1.1 -> 25.2\n",
      "[notice] To update, run: python.exe -m pip install --upgrade pip\n"
     ]
    }
   ],
   "source": [
    "pip install requests beautifulsoup4"
   ]
  },
  {
   "cell_type": "code",
   "execution_count": 48,
   "id": "ac9e2c96-e79e-41df-99fe-a5f378e11716",
   "metadata": {},
   "outputs": [
    {
     "name": "stdout",
     "output_type": "stream",
     "text": [
      "Requirement already satisfied: lxml in c:\\users\\sharon dobbin\\appdata\\local\\programs\\python\\python313\\lib\\site-packages (6.0.0)\n",
      "Note: you may need to restart the kernel to use updated packages.\n"
     ]
    },
    {
     "name": "stderr",
     "output_type": "stream",
     "text": [
      "\n",
      "[notice] A new release of pip is available: 25.1.1 -> 25.2\n",
      "[notice] To update, run: python.exe -m pip install --upgrade pip\n"
     ]
    }
   ],
   "source": [
    "pip install lxml"
   ]
  },
  {
   "cell_type": "code",
   "execution_count": 49,
   "id": "6358d1c3-71d7-4ce8-bee9-51c49679b440",
   "metadata": {},
   "outputs": [
    {
     "name": "stdout",
     "output_type": "stream",
     "text": [
      "Requirement already satisfied: requests in c:\\users\\sharon dobbin\\appdata\\local\\programs\\python\\python313\\lib\\site-packages (2.32.4)\n",
      "Requirement already satisfied: beautifulsoup4 in c:\\users\\sharon dobbin\\appdata\\local\\programs\\python\\python313\\lib\\site-packages (4.13.4)\n",
      "Requirement already satisfied: charset_normalizer<4,>=2 in c:\\users\\sharon dobbin\\appdata\\local\\programs\\python\\python313\\lib\\site-packages (from requests) (3.4.3)\n",
      "Requirement already satisfied: idna<4,>=2.5 in c:\\users\\sharon dobbin\\appdata\\local\\programs\\python\\python313\\lib\\site-packages (from requests) (2.10)\n",
      "Requirement already satisfied: urllib3<3,>=1.21.1 in c:\\users\\sharon dobbin\\appdata\\local\\programs\\python\\python313\\lib\\site-packages (from requests) (2.5.0)\n",
      "Requirement already satisfied: certifi>=2017.4.17 in c:\\users\\sharon dobbin\\appdata\\local\\programs\\python\\python313\\lib\\site-packages (from requests) (2025.8.3)\n",
      "Requirement already satisfied: soupsieve>1.2 in c:\\users\\sharon dobbin\\appdata\\local\\programs\\python\\python313\\lib\\site-packages (from beautifulsoup4) (2.7)\n",
      "Requirement already satisfied: typing-extensions>=4.0.0 in c:\\users\\sharon dobbin\\appdata\\local\\programs\\python\\python313\\lib\\site-packages (from beautifulsoup4) (4.13.2)\n",
      "Note: you may need to restart the kernel to use updated packages.\n"
     ]
    },
    {
     "name": "stderr",
     "output_type": "stream",
     "text": [
      "\n",
      "[notice] A new release of pip is available: 25.1.1 -> 25.2\n",
      "[notice] To update, run: python.exe -m pip install --upgrade pip\n"
     ]
    }
   ],
   "source": [
    "pip install requests beautifulsoup4"
   ]
  },
  {
   "cell_type": "code",
   "execution_count": 46,
   "id": "aa75a903-e5f9-4ff7-9c4e-b730fb4e37d2",
   "metadata": {},
   "outputs": [
    {
     "name": "stdout",
     "output_type": "stream",
     "text": [
      "Requirement already satisfied: html5lib in c:\\users\\sharon dobbin\\appdata\\local\\programs\\python\\python313\\lib\\site-packages (1.1)\n",
      "Requirement already satisfied: six>=1.9 in c:\\users\\sharon dobbin\\appdata\\local\\programs\\python\\python313\\lib\\site-packages (from html5lib) (1.17.0)\n",
      "Requirement already satisfied: webencodings in c:\\users\\sharon dobbin\\appdata\\local\\programs\\python\\python313\\lib\\site-packages (from html5lib) (0.5.1)\n"
     ]
    },
    {
     "name": "stderr",
     "output_type": "stream",
     "text": [
      "\n",
      "[notice] A new release of pip is available: 25.1.1 -> 25.2\n",
      "[notice] To update, run: python.exe -m pip install --upgrade pip\n"
     ]
    }
   ],
   "source": [
    "!pip install html5lib"
   ]
  },
  {
   "cell_type": "code",
   "execution_count": 52,
   "id": "a0db3b2b-d742-4307-baa5-859ced242237",
   "metadata": {},
   "outputs": [
    {
     "name": "stderr",
     "output_type": "stream",
     "text": [
      "C:\\Users\\Sharon dobbin\\AppData\\Local\\Temp\\ipykernel_18172\\43749872.py:16: FutureWarning: Passing literal html to 'read_html' is deprecated and will be removed in a future version. To read from a literal string, wrap it in a 'StringIO' object.\n",
      "  df = pd.read_html(str(table))[0]\n"
     ]
    },
    {
     "ename": "FeatureNotFound",
     "evalue": "Couldn't find a tree builder with the features you requested: html5lib. Do you need to install a parser library?",
     "output_type": "error",
     "traceback": [
      "\u001b[31m---------------------------------------------------------------------------\u001b[39m",
      "\u001b[31mFeatureNotFound\u001b[39m                           Traceback (most recent call last)",
      "\u001b[36mCell\u001b[39m\u001b[36m \u001b[39m\u001b[32mIn[52]\u001b[39m\u001b[32m, line 16\u001b[39m\n\u001b[32m     13\u001b[39m table = soup.find(\u001b[33m\"\u001b[39m\u001b[33mtable\u001b[39m\u001b[33m\"\u001b[39m, {\u001b[33m\"\u001b[39m\u001b[33mclass\u001b[39m\u001b[33m\"\u001b[39m: \u001b[33m\"\u001b[39m\u001b[33mwikitable\u001b[39m\u001b[33m\"\u001b[39m})\n\u001b[32m     15\u001b[39m \u001b[38;5;66;03m# Step 4: Read the HTML table into a pandas DataFrame\u001b[39;00m\n\u001b[32m---> \u001b[39m\u001b[32m16\u001b[39m df = \u001b[43mpd\u001b[49m\u001b[43m.\u001b[49m\u001b[43mread_html\u001b[49m\u001b[43m(\u001b[49m\u001b[38;5;28;43mstr\u001b[39;49m\u001b[43m(\u001b[49m\u001b[43mtable\u001b[49m\u001b[43m)\u001b[49m\u001b[43m)\u001b[49m[\u001b[32m0\u001b[39m]\n\u001b[32m     18\u001b[39m \u001b[38;5;66;03m# Step 5: Show the first few rows\u001b[39;00m\n\u001b[32m     19\u001b[39m \u001b[38;5;28mprint\u001b[39m(df.head())\n",
      "\u001b[36mFile \u001b[39m\u001b[32m~\\AppData\\Local\\Programs\\Python\\Python313\\Lib\\site-packages\\pandas\\io\\html.py:1240\u001b[39m, in \u001b[36mread_html\u001b[39m\u001b[34m(io, match, flavor, header, index_col, skiprows, attrs, parse_dates, thousands, encoding, decimal, converters, na_values, keep_default_na, displayed_only, extract_links, dtype_backend, storage_options)\u001b[39m\n\u001b[32m   1224\u001b[39m \u001b[38;5;28;01mif\u001b[39;00m \u001b[38;5;28misinstance\u001b[39m(io, \u001b[38;5;28mstr\u001b[39m) \u001b[38;5;129;01mand\u001b[39;00m \u001b[38;5;129;01mnot\u001b[39;00m \u001b[38;5;28many\u001b[39m(\n\u001b[32m   1225\u001b[39m     [\n\u001b[32m   1226\u001b[39m         is_file_like(io),\n\u001b[32m   (...)\u001b[39m\u001b[32m   1230\u001b[39m     ]\n\u001b[32m   1231\u001b[39m ):\n\u001b[32m   1232\u001b[39m     warnings.warn(\n\u001b[32m   1233\u001b[39m         \u001b[33m\"\u001b[39m\u001b[33mPassing literal html to \u001b[39m\u001b[33m'\u001b[39m\u001b[33mread_html\u001b[39m\u001b[33m'\u001b[39m\u001b[33m is deprecated and \u001b[39m\u001b[33m\"\u001b[39m\n\u001b[32m   1234\u001b[39m         \u001b[33m\"\u001b[39m\u001b[33mwill be removed in a future version. To read from a \u001b[39m\u001b[33m\"\u001b[39m\n\u001b[32m   (...)\u001b[39m\u001b[32m   1237\u001b[39m         stacklevel=find_stack_level(),\n\u001b[32m   1238\u001b[39m     )\n\u001b[32m-> \u001b[39m\u001b[32m1240\u001b[39m \u001b[38;5;28;01mreturn\u001b[39;00m \u001b[43m_parse\u001b[49m\u001b[43m(\u001b[49m\n\u001b[32m   1241\u001b[39m \u001b[43m    \u001b[49m\u001b[43mflavor\u001b[49m\u001b[43m=\u001b[49m\u001b[43mflavor\u001b[49m\u001b[43m,\u001b[49m\n\u001b[32m   1242\u001b[39m \u001b[43m    \u001b[49m\u001b[43mio\u001b[49m\u001b[43m=\u001b[49m\u001b[43mio\u001b[49m\u001b[43m,\u001b[49m\n\u001b[32m   1243\u001b[39m \u001b[43m    \u001b[49m\u001b[43mmatch\u001b[49m\u001b[43m=\u001b[49m\u001b[43mmatch\u001b[49m\u001b[43m,\u001b[49m\n\u001b[32m   1244\u001b[39m \u001b[43m    \u001b[49m\u001b[43mheader\u001b[49m\u001b[43m=\u001b[49m\u001b[43mheader\u001b[49m\u001b[43m,\u001b[49m\n\u001b[32m   1245\u001b[39m \u001b[43m    \u001b[49m\u001b[43mindex_col\u001b[49m\u001b[43m=\u001b[49m\u001b[43mindex_col\u001b[49m\u001b[43m,\u001b[49m\n\u001b[32m   1246\u001b[39m \u001b[43m    \u001b[49m\u001b[43mskiprows\u001b[49m\u001b[43m=\u001b[49m\u001b[43mskiprows\u001b[49m\u001b[43m,\u001b[49m\n\u001b[32m   1247\u001b[39m \u001b[43m    \u001b[49m\u001b[43mparse_dates\u001b[49m\u001b[43m=\u001b[49m\u001b[43mparse_dates\u001b[49m\u001b[43m,\u001b[49m\n\u001b[32m   1248\u001b[39m \u001b[43m    \u001b[49m\u001b[43mthousands\u001b[49m\u001b[43m=\u001b[49m\u001b[43mthousands\u001b[49m\u001b[43m,\u001b[49m\n\u001b[32m   1249\u001b[39m \u001b[43m    \u001b[49m\u001b[43mattrs\u001b[49m\u001b[43m=\u001b[49m\u001b[43mattrs\u001b[49m\u001b[43m,\u001b[49m\n\u001b[32m   1250\u001b[39m \u001b[43m    \u001b[49m\u001b[43mencoding\u001b[49m\u001b[43m=\u001b[49m\u001b[43mencoding\u001b[49m\u001b[43m,\u001b[49m\n\u001b[32m   1251\u001b[39m \u001b[43m    \u001b[49m\u001b[43mdecimal\u001b[49m\u001b[43m=\u001b[49m\u001b[43mdecimal\u001b[49m\u001b[43m,\u001b[49m\n\u001b[32m   1252\u001b[39m \u001b[43m    \u001b[49m\u001b[43mconverters\u001b[49m\u001b[43m=\u001b[49m\u001b[43mconverters\u001b[49m\u001b[43m,\u001b[49m\n\u001b[32m   1253\u001b[39m \u001b[43m    \u001b[49m\u001b[43mna_values\u001b[49m\u001b[43m=\u001b[49m\u001b[43mna_values\u001b[49m\u001b[43m,\u001b[49m\n\u001b[32m   1254\u001b[39m \u001b[43m    \u001b[49m\u001b[43mkeep_default_na\u001b[49m\u001b[43m=\u001b[49m\u001b[43mkeep_default_na\u001b[49m\u001b[43m,\u001b[49m\n\u001b[32m   1255\u001b[39m \u001b[43m    \u001b[49m\u001b[43mdisplayed_only\u001b[49m\u001b[43m=\u001b[49m\u001b[43mdisplayed_only\u001b[49m\u001b[43m,\u001b[49m\n\u001b[32m   1256\u001b[39m \u001b[43m    \u001b[49m\u001b[43mextract_links\u001b[49m\u001b[43m=\u001b[49m\u001b[43mextract_links\u001b[49m\u001b[43m,\u001b[49m\n\u001b[32m   1257\u001b[39m \u001b[43m    \u001b[49m\u001b[43mdtype_backend\u001b[49m\u001b[43m=\u001b[49m\u001b[43mdtype_backend\u001b[49m\u001b[43m,\u001b[49m\n\u001b[32m   1258\u001b[39m \u001b[43m    \u001b[49m\u001b[43mstorage_options\u001b[49m\u001b[43m=\u001b[49m\u001b[43mstorage_options\u001b[49m\u001b[43m,\u001b[49m\n\u001b[32m   1259\u001b[39m \u001b[43m\u001b[49m\u001b[43m)\u001b[49m\n",
      "\u001b[36mFile \u001b[39m\u001b[32m~\\AppData\\Local\\Programs\\Python\\Python313\\Lib\\site-packages\\pandas\\io\\html.py:1003\u001b[39m, in \u001b[36m_parse\u001b[39m\u001b[34m(flavor, io, match, attrs, encoding, displayed_only, extract_links, storage_options, **kwargs)\u001b[39m\n\u001b[32m   1001\u001b[39m \u001b[38;5;28;01melse\u001b[39;00m:\n\u001b[32m   1002\u001b[39m     \u001b[38;5;28;01massert\u001b[39;00m retained \u001b[38;5;129;01mis\u001b[39;00m \u001b[38;5;129;01mnot\u001b[39;00m \u001b[38;5;28;01mNone\u001b[39;00m  \u001b[38;5;66;03m# for mypy\u001b[39;00m\n\u001b[32m-> \u001b[39m\u001b[32m1003\u001b[39m     \u001b[38;5;28;01mraise\u001b[39;00m retained\n\u001b[32m   1005\u001b[39m ret = []\n\u001b[32m   1006\u001b[39m \u001b[38;5;28;01mfor\u001b[39;00m table \u001b[38;5;129;01min\u001b[39;00m tables:\n",
      "\u001b[36mFile \u001b[39m\u001b[32m~\\AppData\\Local\\Programs\\Python\\Python313\\Lib\\site-packages\\pandas\\io\\html.py:983\u001b[39m, in \u001b[36m_parse\u001b[39m\u001b[34m(flavor, io, match, attrs, encoding, displayed_only, extract_links, storage_options, **kwargs)\u001b[39m\n\u001b[32m    972\u001b[39m p = parser(\n\u001b[32m    973\u001b[39m     io,\n\u001b[32m    974\u001b[39m     compiled_match,\n\u001b[32m   (...)\u001b[39m\u001b[32m    979\u001b[39m     storage_options,\n\u001b[32m    980\u001b[39m )\n\u001b[32m    982\u001b[39m \u001b[38;5;28;01mtry\u001b[39;00m:\n\u001b[32m--> \u001b[39m\u001b[32m983\u001b[39m     tables = \u001b[43mp\u001b[49m\u001b[43m.\u001b[49m\u001b[43mparse_tables\u001b[49m\u001b[43m(\u001b[49m\u001b[43m)\u001b[49m\n\u001b[32m    984\u001b[39m \u001b[38;5;28;01mexcept\u001b[39;00m \u001b[38;5;167;01mValueError\u001b[39;00m \u001b[38;5;28;01mas\u001b[39;00m caught:\n\u001b[32m    985\u001b[39m     \u001b[38;5;66;03m# if `io` is an io-like object, check if it's seekable\u001b[39;00m\n\u001b[32m    986\u001b[39m     \u001b[38;5;66;03m# and try to rewind it before trying the next parser\u001b[39;00m\n\u001b[32m    987\u001b[39m     \u001b[38;5;28;01mif\u001b[39;00m \u001b[38;5;28mhasattr\u001b[39m(io, \u001b[33m\"\u001b[39m\u001b[33mseekable\u001b[39m\u001b[33m\"\u001b[39m) \u001b[38;5;129;01mand\u001b[39;00m io.seekable():\n",
      "\u001b[36mFile \u001b[39m\u001b[32m~\\AppData\\Local\\Programs\\Python\\Python313\\Lib\\site-packages\\pandas\\io\\html.py:249\u001b[39m, in \u001b[36m_HtmlFrameParser.parse_tables\u001b[39m\u001b[34m(self)\u001b[39m\n\u001b[32m    241\u001b[39m \u001b[38;5;28;01mdef\u001b[39;00m\u001b[38;5;250m \u001b[39m\u001b[34mparse_tables\u001b[39m(\u001b[38;5;28mself\u001b[39m):\n\u001b[32m    242\u001b[39m \u001b[38;5;250m    \u001b[39m\u001b[33;03m\"\"\"\u001b[39;00m\n\u001b[32m    243\u001b[39m \u001b[33;03m    Parse and return all tables from the DOM.\u001b[39;00m\n\u001b[32m    244\u001b[39m \n\u001b[32m   (...)\u001b[39m\u001b[32m    247\u001b[39m \u001b[33;03m    list of parsed (header, body, footer) tuples from tables.\u001b[39;00m\n\u001b[32m    248\u001b[39m \u001b[33;03m    \"\"\"\u001b[39;00m\n\u001b[32m--> \u001b[39m\u001b[32m249\u001b[39m     tables = \u001b[38;5;28mself\u001b[39m._parse_tables(\u001b[38;5;28;43mself\u001b[39;49m\u001b[43m.\u001b[49m\u001b[43m_build_doc\u001b[49m\u001b[43m(\u001b[49m\u001b[43m)\u001b[49m, \u001b[38;5;28mself\u001b[39m.match, \u001b[38;5;28mself\u001b[39m.attrs)\n\u001b[32m    250\u001b[39m     \u001b[38;5;28;01mreturn\u001b[39;00m (\u001b[38;5;28mself\u001b[39m._parse_thead_tbody_tfoot(table) \u001b[38;5;28;01mfor\u001b[39;00m table \u001b[38;5;129;01min\u001b[39;00m tables)\n",
      "\u001b[36mFile \u001b[39m\u001b[32m~\\AppData\\Local\\Programs\\Python\\Python313\\Lib\\site-packages\\pandas\\io\\html.py:661\u001b[39m, in \u001b[36m_BeautifulSoupHtml5LibFrameParser._build_doc\u001b[39m\u001b[34m(self)\u001b[39m\n\u001b[32m    658\u001b[39m     udoc = bdoc\n\u001b[32m    659\u001b[39m     from_encoding = \u001b[38;5;28mself\u001b[39m.encoding\n\u001b[32m--> \u001b[39m\u001b[32m661\u001b[39m soup = \u001b[43mBeautifulSoup\u001b[49m\u001b[43m(\u001b[49m\u001b[43mudoc\u001b[49m\u001b[43m,\u001b[49m\u001b[43m \u001b[49m\u001b[43mfeatures\u001b[49m\u001b[43m=\u001b[49m\u001b[33;43m\"\u001b[39;49m\u001b[33;43mhtml5lib\u001b[39;49m\u001b[33;43m\"\u001b[39;49m\u001b[43m,\u001b[49m\u001b[43m \u001b[49m\u001b[43mfrom_encoding\u001b[49m\u001b[43m=\u001b[49m\u001b[43mfrom_encoding\u001b[49m\u001b[43m)\u001b[49m\n\u001b[32m    663\u001b[39m \u001b[38;5;28;01mfor\u001b[39;00m br \u001b[38;5;129;01min\u001b[39;00m soup.find_all(\u001b[33m\"\u001b[39m\u001b[33mbr\u001b[39m\u001b[33m\"\u001b[39m):\n\u001b[32m    664\u001b[39m     br.replace_with(\u001b[33m\"\u001b[39m\u001b[38;5;130;01m\\n\u001b[39;00m\u001b[33m\"\u001b[39m + br.text)\n",
      "\u001b[36mFile \u001b[39m\u001b[32m~\\AppData\\Local\\Programs\\Python\\Python313\\Lib\\site-packages\\bs4\\__init__.py:364\u001b[39m, in \u001b[36mBeautifulSoup.__init__\u001b[39m\u001b[34m(self, markup, features, builder, parse_only, from_encoding, exclude_encodings, element_classes, **kwargs)\u001b[39m\n\u001b[32m    362\u001b[39m     possible_builder_class = builder_registry.lookup(*features)\n\u001b[32m    363\u001b[39m     \u001b[38;5;28;01mif\u001b[39;00m possible_builder_class \u001b[38;5;129;01mis\u001b[39;00m \u001b[38;5;28;01mNone\u001b[39;00m:\n\u001b[32m--> \u001b[39m\u001b[32m364\u001b[39m         \u001b[38;5;28;01mraise\u001b[39;00m FeatureNotFound(\n\u001b[32m    365\u001b[39m             \u001b[33m\"\u001b[39m\u001b[33mCouldn\u001b[39m\u001b[33m'\u001b[39m\u001b[33mt find a tree builder with the features you \u001b[39m\u001b[33m\"\u001b[39m\n\u001b[32m    366\u001b[39m             \u001b[33m\"\u001b[39m\u001b[33mrequested: \u001b[39m\u001b[38;5;132;01m%s\u001b[39;00m\u001b[33m. Do you need to install a parser library?\u001b[39m\u001b[33m\"\u001b[39m\n\u001b[32m    367\u001b[39m             % \u001b[33m\"\u001b[39m\u001b[33m,\u001b[39m\u001b[33m\"\u001b[39m.join(features)\n\u001b[32m    368\u001b[39m         )\n\u001b[32m    369\u001b[39m     builder_class = possible_builder_class\n\u001b[32m    371\u001b[39m \u001b[38;5;66;03m# At this point either we have a TreeBuilder instance in\u001b[39;00m\n\u001b[32m    372\u001b[39m \u001b[38;5;66;03m# builder, or we have a builder_class that we can instantiate\u001b[39;00m\n\u001b[32m    373\u001b[39m \u001b[38;5;66;03m# with the remaining **kwargs.\u001b[39;00m\n",
      "\u001b[31mFeatureNotFound\u001b[39m: Couldn't find a tree builder with the features you requested: html5lib. Do you need to install a parser library?"
     ]
    }
   ],
   "source": [
    "import requests\n",
    "from bs4 import BeautifulSoup\n",
    "import pandas as pd\n",
    "\n",
    "# Step 1: Send a GET request to the webpage\n",
    "url = \"https://en.wikipedia.org/wiki/List_of_countries_and_dependencies_by_population\"\n",
    "response = requests.get(url)\n",
    "\n",
    "# Step 2: Parse the HTML content\n",
    "soup = BeautifulSoup(response.content, \"html.parser\")\n",
    "\n",
    "# Step 3: Find the first table on the page\n",
    "table = soup.find(\"table\", {\"class\": \"wikitable\"})\n",
    "\n",
    "# Step 4: Read the HTML table into a pandas DataFrame\n",
    "df = pd.read_html(str(table))[0]\n",
    "\n",
    "# Step 5: Show the first few rows\n",
    "print(df.head())\n"
   ]
  },
  {
   "cell_type": "code",
   "execution_count": 51,
   "id": "fd3b669b-3be8-453a-802c-f523ed329dea",
   "metadata": {},
   "outputs": [
    {
     "name": "stdout",
     "output_type": "stream",
     "text": [
      "Requirement already satisfied: lxml in c:\\users\\sharon dobbin\\appdata\\local\\programs\\python\\python313\\lib\\site-packages (6.0.0)\n"
     ]
    },
    {
     "name": "stderr",
     "output_type": "stream",
     "text": [
      "\n",
      "[notice] A new release of pip is available: 25.1.1 -> 25.2\n",
      "[notice] To update, run: python.exe -m pip install --upgrade pip\n"
     ]
    }
   ],
   "source": [
    "!pip install lxml"
   ]
  },
  {
   "cell_type": "markdown",
   "id": "0684eb72-c2d9-4898-bcca-31f17f3db619",
   "metadata": {},
   "source": [
    "### Using public APIs with requests\n",
    "#API: https://official-joke-api.appspot.com/random_joke"
   ]
  },
  {
   "cell_type": "code",
   "execution_count": 21,
   "id": "250498f0-f7d1-427e-85f9-82a16a1c58e5",
   "metadata": {},
   "outputs": [
    {
     "name": "stdout",
     "output_type": "stream",
     "text": [
      "Here's a joke for you:\n",
      "Knock knock. \n",
      " Who's there? \n",
      " Opportunity.\n",
      "That is impossible. Opportunity doesn’t come knocking twice!\n"
     ]
    }
   ],
   "source": [
    "import requests\n",
    "\n",
    "# Define the API endpoint\n",
    "url = \"https://official-joke-api.appspot.com/random_joke\"\n",
    "\n",
    "# Send a GET request to the API\n",
    "response = requests.get(url)\n",
    "\n",
    "# Parse the JSON response\n",
    "joke = response.json()\n",
    "\n",
    "# Print the joke\n",
    "print(\"Here's a joke for you:\")\n",
    "print(f\"{joke['setup']}\")\n",
    "print(f\"{joke['punchline']}\")\n"
   ]
  },
  {
   "cell_type": "markdown",
   "id": "fa0926ad-cfc9-4300-aba8-ea4560db1da5",
   "metadata": {},
   "source": [
    "### Reading from MySQL Database"
   ]
  },
  {
   "cell_type": "code",
   "execution_count": 53,
   "id": "c2e6820b-5b42-49ab-8411-e2b6ea91d6a2",
   "metadata": {},
   "outputs": [
    {
     "name": "stdout",
     "output_type": "stream",
     "text": [
      "Collecting pymysql\n",
      "  Downloading pymysql-1.1.2-py3-none-any.whl.metadata (4.3 kB)\n",
      "Collecting sqlalchemy\n",
      "  Downloading sqlalchemy-2.0.43-cp313-cp313-win_amd64.whl.metadata (9.8 kB)\n",
      "Collecting greenlet>=1 (from sqlalchemy)\n",
      "  Downloading greenlet-3.2.4-cp313-cp313-win_amd64.whl.metadata (4.2 kB)\n",
      "Requirement already satisfied: typing-extensions>=4.6.0 in c:\\users\\sharon dobbin\\appdata\\local\\programs\\python\\python313\\lib\\site-packages (from sqlalchemy) (4.13.2)\n",
      "Downloading pymysql-1.1.2-py3-none-any.whl (45 kB)\n",
      "Downloading sqlalchemy-2.0.43-cp313-cp313-win_amd64.whl (2.1 MB)\n",
      "   ---------------------------------------- 0.0/2.1 MB ? eta -:--:--\n",
      "   ---------------------------------------- 0.0/2.1 MB ? eta -:--:--\n",
      "   ---- ----------------------------------- 0.3/2.1 MB ? eta -:--:--\n",
      "   --------- ------------------------------ 0.5/2.1 MB 1.1 MB/s eta 0:00:02\n",
      "   -------------- ------------------------- 0.8/2.1 MB 1.0 MB/s eta 0:00:02\n",
      "   ------------------- -------------------- 1.0/2.1 MB 1.1 MB/s eta 0:00:01\n",
      "   ------------------- -------------------- 1.0/2.1 MB 1.1 MB/s eta 0:00:01\n",
      "   ------------------------ --------------- 1.3/2.1 MB 1.1 MB/s eta 0:00:01\n",
      "   ----------------------------- ---------- 1.6/2.1 MB 1.1 MB/s eta 0:00:01\n",
      "   ----------------------------- ---------- 1.6/2.1 MB 1.1 MB/s eta 0:00:01\n",
      "   ---------------------------------------  2.1/2.1 MB 1.0 MB/s eta 0:00:01\n",
      "   ---------------------------------------- 2.1/2.1 MB 1.0 MB/s eta 0:00:00\n",
      "Downloading greenlet-3.2.4-cp313-cp313-win_amd64.whl (299 kB)\n",
      "Installing collected packages: pymysql, greenlet, sqlalchemy\n",
      "\n",
      "   ---------------------------------------- 0/3 [pymysql]\n",
      "   ------------- -------------------------- 1/3 [greenlet]\n",
      "   ------------- -------------------------- 1/3 [greenlet]\n",
      "   ------------- -------------------------- 1/3 [greenlet]\n",
      "   -------------------------- ------------- 2/3 [sqlalchemy]\n",
      "   -------------------------- ------------- 2/3 [sqlalchemy]\n",
      "   -------------------------- ------------- 2/3 [sqlalchemy]\n",
      "   -------------------------- ------------- 2/3 [sqlalchemy]\n",
      "   -------------------------- ------------- 2/3 [sqlalchemy]\n",
      "   -------------------------- ------------- 2/3 [sqlalchemy]\n",
      "   -------------------------- ------------- 2/3 [sqlalchemy]\n",
      "   -------------------------- ------------- 2/3 [sqlalchemy]\n",
      "   -------------------------- ------------- 2/3 [sqlalchemy]\n",
      "   -------------------------- ------------- 2/3 [sqlalchemy]\n",
      "   -------------------------- ------------- 2/3 [sqlalchemy]\n",
      "   -------------------------- ------------- 2/3 [sqlalchemy]\n",
      "   -------------------------- ------------- 2/3 [sqlalchemy]\n",
      "   -------------------------- ------------- 2/3 [sqlalchemy]\n",
      "   -------------------------- ------------- 2/3 [sqlalchemy]\n",
      "   -------------------------- ------------- 2/3 [sqlalchemy]\n",
      "   -------------------------- ------------- 2/3 [sqlalchemy]\n",
      "   -------------------------- ------------- 2/3 [sqlalchemy]\n",
      "   -------------------------- ------------- 2/3 [sqlalchemy]\n",
      "   -------------------------- ------------- 2/3 [sqlalchemy]\n",
      "   -------------------------- ------------- 2/3 [sqlalchemy]\n",
      "   -------------------------- ------------- 2/3 [sqlalchemy]\n",
      "   -------------------------- ------------- 2/3 [sqlalchemy]\n",
      "   -------------------------- ------------- 2/3 [sqlalchemy]\n",
      "   -------------------------- ------------- 2/3 [sqlalchemy]\n",
      "   -------------------------- ------------- 2/3 [sqlalchemy]\n",
      "   -------------------------- ------------- 2/3 [sqlalchemy]\n",
      "   -------------------------- ------------- 2/3 [sqlalchemy]\n",
      "   -------------------------- ------------- 2/3 [sqlalchemy]\n",
      "   -------------------------- ------------- 2/3 [sqlalchemy]\n",
      "   -------------------------- ------------- 2/3 [sqlalchemy]\n",
      "   ---------------------------------------- 3/3 [sqlalchemy]\n",
      "\n",
      "Successfully installed greenlet-3.2.4 pymysql-1.1.2 sqlalchemy-2.0.43\n",
      "Note: you may need to restart the kernel to use updated packages.\n"
     ]
    },
    {
     "name": "stderr",
     "output_type": "stream",
     "text": [
      "\n",
      "[notice] A new release of pip is available: 25.1.1 -> 25.2\n",
      "[notice] To update, run: python.exe -m pip install --upgrade pip\n"
     ]
    }
   ],
   "source": [
    "pip install pymysql sqlalchemy \n"
   ]
  },
  {
   "cell_type": "code",
   "execution_count": 55,
   "id": "f1b98174-c32d-4471-8440-c95a37e4e18e",
   "metadata": {},
   "outputs": [
    {
     "ename": "ValueError",
     "evalue": "invalid literal for int() with base 10: '{3306}'",
     "output_type": "error",
     "traceback": [
      "\u001b[31m---------------------------------------------------------------------------\u001b[39m",
      "\u001b[31mValueError\u001b[39m                                Traceback (most recent call last)",
      "\u001b[36mCell\u001b[39m\u001b[36m \u001b[39m\u001b[32mIn[55]\u001b[39m\u001b[32m, line 15\u001b[39m\n\u001b[32m     12\u001b[39m connection_string = \u001b[33m\"\u001b[39m\u001b[33mmysql+pymysql://\u001b[39m\u001b[38;5;132;01m{root}\u001b[39;00m\u001b[33m:\u001b[39m\u001b[38;5;132;01m{root}\u001b[39;00m\u001b[33m@\u001b[39m\u001b[38;5;132;01m{localhost}\u001b[39;00m\u001b[33m:\u001b[39m\u001b[38;5;132;01m{3306}\u001b[39;00m\u001b[33m/\u001b[39m\u001b[38;5;132;01m{dcbapp}\u001b[39;00m\u001b[33m\"\u001b[39m\n\u001b[32m     14\u001b[39m \u001b[38;5;66;03m# Create the engine\u001b[39;00m\n\u001b[32m---> \u001b[39m\u001b[32m15\u001b[39m engine = \u001b[43mcreate_engine\u001b[49m\u001b[43m(\u001b[49m\u001b[43mconnection_string\u001b[49m\u001b[43m)\u001b[49m\n\u001b[32m     17\u001b[39m \u001b[38;5;66;03m# Query the database and load into a DataFrame\u001b[39;00m\n\u001b[32m     18\u001b[39m query = \u001b[33m\"\u001b[39m\u001b[33mSELECT * FROM admin;\u001b[39m\u001b[33m\"\u001b[39m\n",
      "\u001b[36mFile \u001b[39m\u001b[32m<string>:2\u001b[39m, in \u001b[36mcreate_engine\u001b[39m\u001b[34m(url, **kwargs)\u001b[39m\n",
      "\u001b[36mFile \u001b[39m\u001b[32m~\\AppData\\Local\\Programs\\Python\\Python313\\Lib\\site-packages\\sqlalchemy\\util\\deprecations.py:281\u001b[39m, in \u001b[36mdeprecated_params.<locals>.decorate.<locals>.warned\u001b[39m\u001b[34m(fn, *args, **kwargs)\u001b[39m\n\u001b[32m    274\u001b[39m     \u001b[38;5;28;01mif\u001b[39;00m m \u001b[38;5;129;01min\u001b[39;00m kwargs:\n\u001b[32m    275\u001b[39m         _warn_with_version(\n\u001b[32m    276\u001b[39m             messages[m],\n\u001b[32m    277\u001b[39m             versions[m],\n\u001b[32m    278\u001b[39m             version_warnings[m],\n\u001b[32m    279\u001b[39m             stacklevel=\u001b[32m3\u001b[39m,\n\u001b[32m    280\u001b[39m         )\n\u001b[32m--> \u001b[39m\u001b[32m281\u001b[39m \u001b[38;5;28;01mreturn\u001b[39;00m \u001b[43mfn\u001b[49m\u001b[43m(\u001b[49m\u001b[43m*\u001b[49m\u001b[43margs\u001b[49m\u001b[43m,\u001b[49m\u001b[43m \u001b[49m\u001b[43m*\u001b[49m\u001b[43m*\u001b[49m\u001b[43mkwargs\u001b[49m\u001b[43m)\u001b[49m\n",
      "\u001b[36mFile \u001b[39m\u001b[32m~\\AppData\\Local\\Programs\\Python\\Python313\\Lib\\site-packages\\sqlalchemy\\engine\\create.py:564\u001b[39m, in \u001b[36mcreate_engine\u001b[39m\u001b[34m(url, **kwargs)\u001b[39m\n\u001b[32m    561\u001b[39m kwargs.pop(\u001b[33m\"\u001b[39m\u001b[33mempty_in_strategy\u001b[39m\u001b[33m\"\u001b[39m, \u001b[38;5;28;01mNone\u001b[39;00m)\n\u001b[32m    563\u001b[39m \u001b[38;5;66;03m# create url.URL object\u001b[39;00m\n\u001b[32m--> \u001b[39m\u001b[32m564\u001b[39m u = \u001b[43m_url\u001b[49m\u001b[43m.\u001b[49m\u001b[43mmake_url\u001b[49m\u001b[43m(\u001b[49m\u001b[43murl\u001b[49m\u001b[43m)\u001b[49m\n\u001b[32m    566\u001b[39m u, plugins, kwargs = u._instantiate_plugins(kwargs)\n\u001b[32m    568\u001b[39m entrypoint = u._get_entrypoint()\n",
      "\u001b[36mFile \u001b[39m\u001b[32m~\\AppData\\Local\\Programs\\Python\\Python313\\Lib\\site-packages\\sqlalchemy\\engine\\url.py:856\u001b[39m, in \u001b[36mmake_url\u001b[39m\u001b[34m(name_or_url)\u001b[39m\n\u001b[32m    840\u001b[39m \u001b[38;5;250m\u001b[39m\u001b[33;03m\"\"\"Given a string, produce a new URL instance.\u001b[39;00m\n\u001b[32m    841\u001b[39m \n\u001b[32m    842\u001b[39m \u001b[33;03mThe format of the URL generally follows `RFC-1738\u001b[39;00m\n\u001b[32m   (...)\u001b[39m\u001b[32m    852\u001b[39m \n\u001b[32m    853\u001b[39m \u001b[33;03m\"\"\"\u001b[39;00m\n\u001b[32m    855\u001b[39m \u001b[38;5;28;01mif\u001b[39;00m \u001b[38;5;28misinstance\u001b[39m(name_or_url, \u001b[38;5;28mstr\u001b[39m):\n\u001b[32m--> \u001b[39m\u001b[32m856\u001b[39m     \u001b[38;5;28;01mreturn\u001b[39;00m \u001b[43m_parse_url\u001b[49m\u001b[43m(\u001b[49m\u001b[43mname_or_url\u001b[49m\u001b[43m)\u001b[49m\n\u001b[32m    857\u001b[39m \u001b[38;5;28;01melif\u001b[39;00m \u001b[38;5;129;01mnot\u001b[39;00m \u001b[38;5;28misinstance\u001b[39m(name_or_url, URL) \u001b[38;5;129;01mand\u001b[39;00m \u001b[38;5;129;01mnot\u001b[39;00m \u001b[38;5;28mhasattr\u001b[39m(\n\u001b[32m    858\u001b[39m     name_or_url, \u001b[33m\"\u001b[39m\u001b[33m_sqla_is_testing_if_this_is_a_mock_object\u001b[39m\u001b[33m\"\u001b[39m\n\u001b[32m    859\u001b[39m ):\n\u001b[32m    860\u001b[39m     \u001b[38;5;28;01mraise\u001b[39;00m exc.ArgumentError(\n\u001b[32m    861\u001b[39m         \u001b[33mf\u001b[39m\u001b[33m\"\u001b[39m\u001b[33mExpected string or URL object, got \u001b[39m\u001b[38;5;132;01m{\u001b[39;00mname_or_url\u001b[38;5;132;01m!r}\u001b[39;00m\u001b[33m\"\u001b[39m\n\u001b[32m    862\u001b[39m     )\n",
      "\u001b[36mFile \u001b[39m\u001b[32m~\\AppData\\Local\\Programs\\Python\\Python313\\Lib\\site-packages\\sqlalchemy\\engine\\url.py:917\u001b[39m, in \u001b[36m_parse_url\u001b[39m\u001b[34m(name)\u001b[39m\n\u001b[32m    914\u001b[39m     name = components.pop(\u001b[33m\"\u001b[39m\u001b[33mname\u001b[39m\u001b[33m\"\u001b[39m)\n\u001b[32m    916\u001b[39m     \u001b[38;5;28;01mif\u001b[39;00m components[\u001b[33m\"\u001b[39m\u001b[33mport\u001b[39m\u001b[33m\"\u001b[39m]:\n\u001b[32m--> \u001b[39m\u001b[32m917\u001b[39m         components[\u001b[33m\"\u001b[39m\u001b[33mport\u001b[39m\u001b[33m\"\u001b[39m] = \u001b[38;5;28;43mint\u001b[39;49m\u001b[43m(\u001b[49m\u001b[43mcomponents\u001b[49m\u001b[43m[\u001b[49m\u001b[33;43m\"\u001b[39;49m\u001b[33;43mport\u001b[39;49m\u001b[33;43m\"\u001b[39;49m\u001b[43m]\u001b[49m\u001b[43m)\u001b[49m\n\u001b[32m    919\u001b[39m     \u001b[38;5;28;01mreturn\u001b[39;00m URL.create(name, **components)  \u001b[38;5;66;03m# type: ignore\u001b[39;00m\n\u001b[32m    921\u001b[39m \u001b[38;5;28;01melse\u001b[39;00m:\n",
      "\u001b[31mValueError\u001b[39m: invalid literal for int() with base 10: '{3306}'"
     ]
    }
   ],
   "source": [
    "from sqlalchemy import create_engine\n",
    "import pandas as pd\n",
    "\n",
    "# Replace with your MySQL connection details\n",
    "username = \"root\"\n",
    "password = \"root\"\n",
    "host = \"localhost\"\n",
    "port = 3306\n",
    "database = \"dcbapp\"\n",
    "\n",
    "# Create the connection string\n",
    "connection_string = \"mysql+pymysql://{root}:{root}@{localhost}:{3306}/{dcbapp}\"\n",
    "\n",
    "# Create the engine\n",
    "engine = create_engine(connection_string)\n",
    "\n",
    "# Query the database and load into a DataFrame\n",
    "query = \"SELECT * FROM admin;\"\n",
    "df = pd.read_sql(query, engine)\n",
    "\n",
    "# Display the first few rows\n",
    "print(df.head())\n"
   ]
  },
  {
   "cell_type": "markdown",
   "id": "2aea568d-9e88-4e56-b655-e68ab27c1bc2",
   "metadata": {},
   "source": [
    "### From UCI Machine Learning Repository\n",
    "Always check the dataset format (.csv, .data, .xls) and delimiter (sep=',', sep=';', etc.)\n",
    "\n",
    "You may need to specify header=None or provide column names manually.### From UCI Machine Learning Repository"
   ]
  },
  {
   "cell_type": "code",
   "execution_count": 56,
   "id": "b879370a-c22b-46c6-92e8-8481082a6b29",
   "metadata": {},
   "outputs": [
    {
     "data": {
      "text/html": [
       "<div>\n",
       "<style scoped>\n",
       "    .dataframe tbody tr th:only-of-type {\n",
       "        vertical-align: middle;\n",
       "    }\n",
       "\n",
       "    .dataframe tbody tr th {\n",
       "        vertical-align: top;\n",
       "    }\n",
       "\n",
       "    .dataframe thead th {\n",
       "        text-align: right;\n",
       "    }\n",
       "</style>\n",
       "<table border=\"1\" class=\"dataframe\">\n",
       "  <thead>\n",
       "    <tr style=\"text-align: right;\">\n",
       "      <th></th>\n",
       "      <th>sepal_length</th>\n",
       "      <th>sepal_width</th>\n",
       "      <th>petal_length</th>\n",
       "      <th>petal_width</th>\n",
       "      <th>class</th>\n",
       "    </tr>\n",
       "  </thead>\n",
       "  <tbody>\n",
       "    <tr>\n",
       "      <th>0</th>\n",
       "      <td>5.1</td>\n",
       "      <td>3.5</td>\n",
       "      <td>1.4</td>\n",
       "      <td>0.2</td>\n",
       "      <td>Iris-setosa</td>\n",
       "    </tr>\n",
       "    <tr>\n",
       "      <th>1</th>\n",
       "      <td>4.9</td>\n",
       "      <td>3.0</td>\n",
       "      <td>1.4</td>\n",
       "      <td>0.2</td>\n",
       "      <td>Iris-setosa</td>\n",
       "    </tr>\n",
       "    <tr>\n",
       "      <th>2</th>\n",
       "      <td>4.7</td>\n",
       "      <td>3.2</td>\n",
       "      <td>1.3</td>\n",
       "      <td>0.2</td>\n",
       "      <td>Iris-setosa</td>\n",
       "    </tr>\n",
       "    <tr>\n",
       "      <th>3</th>\n",
       "      <td>4.6</td>\n",
       "      <td>3.1</td>\n",
       "      <td>1.5</td>\n",
       "      <td>0.2</td>\n",
       "      <td>Iris-setosa</td>\n",
       "    </tr>\n",
       "    <tr>\n",
       "      <th>4</th>\n",
       "      <td>5.0</td>\n",
       "      <td>3.6</td>\n",
       "      <td>1.4</td>\n",
       "      <td>0.2</td>\n",
       "      <td>Iris-setosa</td>\n",
       "    </tr>\n",
       "  </tbody>\n",
       "</table>\n",
       "</div>"
      ],
      "text/plain": [
       "   sepal_length  sepal_width  petal_length  petal_width        class\n",
       "0           5.1          3.5           1.4          0.2  Iris-setosa\n",
       "1           4.9          3.0           1.4          0.2  Iris-setosa\n",
       "2           4.7          3.2           1.3          0.2  Iris-setosa\n",
       "3           4.6          3.1           1.5          0.2  Iris-setosa\n",
       "4           5.0          3.6           1.4          0.2  Iris-setosa"
      ]
     },
     "execution_count": 56,
     "metadata": {},
     "output_type": "execute_result"
    }
   ],
   "source": [
    "#Example1\n",
    "\n",
    "import pandas as pd\n",
    "\n",
    "url = \"https://archive.ics.uci.edu/ml/machine-learning-databases/iris/iris.data\"\n",
    "column_names = ['sepal_length', 'sepal_width', 'petal_length', 'petal_width', 'class']\n",
    "df = pd.read_csv(url, header=None, names=column_names)\n",
    "\n",
    "df.head()"
   ]
  },
  {
   "cell_type": "code",
   "execution_count": 57,
   "id": "4a26744d-51f0-4eec-afff-19c1433f17dc",
   "metadata": {},
   "outputs": [
    {
     "data": {
      "text/html": [
       "<div>\n",
       "<style scoped>\n",
       "    .dataframe tbody tr th:only-of-type {\n",
       "        vertical-align: middle;\n",
       "    }\n",
       "\n",
       "    .dataframe tbody tr th {\n",
       "        vertical-align: top;\n",
       "    }\n",
       "\n",
       "    .dataframe thead th {\n",
       "        text-align: right;\n",
       "    }\n",
       "</style>\n",
       "<table border=\"1\" class=\"dataframe\">\n",
       "  <thead>\n",
       "    <tr style=\"text-align: right;\">\n",
       "      <th></th>\n",
       "      <th>fixed acidity</th>\n",
       "      <th>volatile acidity</th>\n",
       "      <th>citric acid</th>\n",
       "      <th>residual sugar</th>\n",
       "      <th>chlorides</th>\n",
       "      <th>free sulfur dioxide</th>\n",
       "      <th>total sulfur dioxide</th>\n",
       "      <th>density</th>\n",
       "      <th>pH</th>\n",
       "      <th>sulphates</th>\n",
       "      <th>alcohol</th>\n",
       "      <th>quality</th>\n",
       "    </tr>\n",
       "  </thead>\n",
       "  <tbody>\n",
       "    <tr>\n",
       "      <th>0</th>\n",
       "      <td>7.4</td>\n",
       "      <td>0.70</td>\n",
       "      <td>0.00</td>\n",
       "      <td>1.9</td>\n",
       "      <td>0.076</td>\n",
       "      <td>11.0</td>\n",
       "      <td>34.0</td>\n",
       "      <td>0.9978</td>\n",
       "      <td>3.51</td>\n",
       "      <td>0.56</td>\n",
       "      <td>9.4</td>\n",
       "      <td>5</td>\n",
       "    </tr>\n",
       "    <tr>\n",
       "      <th>1</th>\n",
       "      <td>7.8</td>\n",
       "      <td>0.88</td>\n",
       "      <td>0.00</td>\n",
       "      <td>2.6</td>\n",
       "      <td>0.098</td>\n",
       "      <td>25.0</td>\n",
       "      <td>67.0</td>\n",
       "      <td>0.9968</td>\n",
       "      <td>3.20</td>\n",
       "      <td>0.68</td>\n",
       "      <td>9.8</td>\n",
       "      <td>5</td>\n",
       "    </tr>\n",
       "    <tr>\n",
       "      <th>2</th>\n",
       "      <td>7.8</td>\n",
       "      <td>0.76</td>\n",
       "      <td>0.04</td>\n",
       "      <td>2.3</td>\n",
       "      <td>0.092</td>\n",
       "      <td>15.0</td>\n",
       "      <td>54.0</td>\n",
       "      <td>0.9970</td>\n",
       "      <td>3.26</td>\n",
       "      <td>0.65</td>\n",
       "      <td>9.8</td>\n",
       "      <td>5</td>\n",
       "    </tr>\n",
       "    <tr>\n",
       "      <th>3</th>\n",
       "      <td>11.2</td>\n",
       "      <td>0.28</td>\n",
       "      <td>0.56</td>\n",
       "      <td>1.9</td>\n",
       "      <td>0.075</td>\n",
       "      <td>17.0</td>\n",
       "      <td>60.0</td>\n",
       "      <td>0.9980</td>\n",
       "      <td>3.16</td>\n",
       "      <td>0.58</td>\n",
       "      <td>9.8</td>\n",
       "      <td>6</td>\n",
       "    </tr>\n",
       "    <tr>\n",
       "      <th>4</th>\n",
       "      <td>7.4</td>\n",
       "      <td>0.70</td>\n",
       "      <td>0.00</td>\n",
       "      <td>1.9</td>\n",
       "      <td>0.076</td>\n",
       "      <td>11.0</td>\n",
       "      <td>34.0</td>\n",
       "      <td>0.9978</td>\n",
       "      <td>3.51</td>\n",
       "      <td>0.56</td>\n",
       "      <td>9.4</td>\n",
       "      <td>5</td>\n",
       "    </tr>\n",
       "  </tbody>\n",
       "</table>\n",
       "</div>"
      ],
      "text/plain": [
       "   fixed acidity  volatile acidity  citric acid  residual sugar  chlorides  \\\n",
       "0            7.4              0.70         0.00             1.9      0.076   \n",
       "1            7.8              0.88         0.00             2.6      0.098   \n",
       "2            7.8              0.76         0.04             2.3      0.092   \n",
       "3           11.2              0.28         0.56             1.9      0.075   \n",
       "4            7.4              0.70         0.00             1.9      0.076   \n",
       "\n",
       "   free sulfur dioxide  total sulfur dioxide  density    pH  sulphates  \\\n",
       "0                 11.0                  34.0   0.9978  3.51       0.56   \n",
       "1                 25.0                  67.0   0.9968  3.20       0.68   \n",
       "2                 15.0                  54.0   0.9970  3.26       0.65   \n",
       "3                 17.0                  60.0   0.9980  3.16       0.58   \n",
       "4                 11.0                  34.0   0.9978  3.51       0.56   \n",
       "\n",
       "   alcohol  quality  \n",
       "0      9.4        5  \n",
       "1      9.8        5  \n",
       "2      9.8        5  \n",
       "3      9.8        6  \n",
       "4      9.4        5  "
      ]
     },
     "execution_count": 57,
     "metadata": {},
     "output_type": "execute_result"
    }
   ],
   "source": [
    "#Example2\n",
    "url = \"https://archive.ics.uci.edu/ml/machine-learning-databases/wine-quality/winequality-red.csv\"\n",
    "df = pd.read_csv(url, sep=';')  # UCI sometimes uses semicolon as separator\n",
    "\n",
    "df.head()\n"
   ]
  },
  {
   "cell_type": "markdown",
   "id": "4065a381-881a-4e10-a8e7-f0f72b20c403",
   "metadata": {},
   "source": [
    "## Data Preparation & Cleaning\n",
    "### Definition: Ensuring the data is accurate, consistent, and usable for analysis or modeling.\n",
    "\n",
    "1 Handling missing values (NaN)\n",
    "\n",
    "Drop: df.dropna()\n",
    "\n",
    "Fill: df.fillna(value)\n",
    "\n",
    "2 Removing duplicates: df.drop_duplicates()\n",
    "\n",
    "3 Fixing data types: df['col'] = df['col'].astype(int)\n",
    "\n",
    "4 Renaming columns: df.rename(columns={'old': 'new'})\n",
    "\n",
    "5 Handling outliers: Use IQR or Z-score method\n",
    "\n",
    "6 Standardizing formats (e.g., dates, text cases)"
   ]
  },
  {
   "cell_type": "markdown",
   "id": "d0b40391-b981-4c28-81e6-ba009090696c",
   "metadata": {},
   "source": [
    "### 1 Sample Dataset with Missing Values"
   ]
  },
  {
   "cell_type": "code",
   "execution_count": 58,
   "id": "8a93bf56-f987-46a9-988b-d8007f91bf37",
   "metadata": {},
   "outputs": [
    {
     "name": "stdout",
     "output_type": "stream",
     "text": [
      "Original DataFrame:\n",
      "      Name   Age   Salary\n",
      "0    Alice  25.0  50000.0\n",
      "1      Bob   NaN  54000.0\n",
      "2  Charlie  30.0      NaN\n",
      "3    David  22.0  48000.0\n",
      "4     None  28.0  52000.0\n"
     ]
    }
   ],
   "source": [
    "import pandas as pd\n",
    "import numpy as np\n",
    "\n",
    "# Sample data with NaN values\n",
    "data = {\n",
    "    'Name': ['Alice', 'Bob', 'Charlie', 'David', None],\n",
    "    'Age': [25, np.nan, 30, 22, 28],\n",
    "    'Salary': [50000, 54000, np.nan, 48000, 52000]\n",
    "}\n",
    "\n",
    "df = pd.DataFrame(data)\n",
    "print(\"Original DataFrame:\")\n",
    "print(df)"
   ]
  },
  {
   "cell_type": "markdown",
   "id": "206d1ddc-0c58-40c6-9a8a-75e22ed771aa",
   "metadata": {},
   "source": [
    "### 2 Drop Missing Values\n"
   ]
  },
  {
   "cell_type": "code",
   "execution_count": 6,
   "id": "8af0f3c0-30b4-4470-9e4a-7a47a018cb12",
   "metadata": {},
   "outputs": [
    {
     "name": "stdout",
     "output_type": "stream",
     "text": [
      "\n",
      "Dropped rows with any NaN values:\n",
      "    Name   Age   Salary\n",
      "0  Alice  25.0  50000.0\n",
      "3  David  22.0  48000.0\n"
     ]
    }
   ],
   "source": [
    "# Drop rows with any NaN:\n",
    "df_dropped_any = df.dropna()\n",
    "print(\"\\nDropped rows with any NaN values:\")\n",
    "print(df_dropped_any)\n"
   ]
  },
  {
   "cell_type": "code",
   "execution_count": 59,
   "id": "8d4d7738-55da-4d3a-8217-b4655108b4c9",
   "metadata": {},
   "outputs": [
    {
     "name": "stdout",
     "output_type": "stream",
     "text": [
      "\n",
      "Dropped rows where Age is NaN:\n",
      "      Name   Age   Salary\n",
      "0    Alice  25.0  50000.0\n",
      "2  Charlie  30.0      NaN\n",
      "3    David  22.0  48000.0\n",
      "4     None  28.0  52000.0\n"
     ]
    }
   ],
   "source": [
    "# Drop rows with NaN in specific column:\n",
    "df_dropped_age = df.dropna(subset=['Age'])\n",
    "print(\"\\nDropped rows where Age is NaN:\")\n",
    "print(df_dropped_age)"
   ]
  },
  {
   "cell_type": "markdown",
   "id": "4fcb38a2-2a6d-44c3-b5c3-82a033bbd356",
   "metadata": {},
   "source": [
    "### 3 Fill Missing Values"
   ]
  },
  {
   "cell_type": "code",
   "execution_count": 60,
   "id": "9a52f0dc-fe71-46ef-92b9-4bacaad022a5",
   "metadata": {},
   "outputs": [
    {
     "name": "stdout",
     "output_type": "stream",
     "text": [
      "\n",
      "Filled all NaNs with 0:\n",
      "      Name   Age   Salary\n",
      "0    Alice  25.0  50000.0\n",
      "1      Bob   0.0  54000.0\n",
      "2  Charlie  30.0      0.0\n",
      "3    David  22.0  48000.0\n",
      "4        0  28.0  52000.0\n"
     ]
    }
   ],
   "source": [
    "#Fill with a constant value:\n",
    "df_fill_constant = df.fillna(0)\n",
    "print(\"\\nFilled all NaNs with 0:\")\n",
    "print(df_fill_constant)\n"
   ]
  },
  {
   "cell_type": "code",
   "execution_count": 44,
   "id": "692bfe4b-f827-4ff1-ad11-ed7b0fd8a386",
   "metadata": {},
   "outputs": [
    {
     "name": "stdout",
     "output_type": "stream",
     "text": [
      "\n",
      "Filled Age and Salary NaNs with column mean:\n",
      "      Name    Age   Salary\n",
      "0    Alice  25.00  50000.0\n",
      "1      Bob  26.25  54000.0\n",
      "2  Charlie  30.00  51000.0\n",
      "3    David  22.00  48000.0\n",
      "4     None  28.00  52000.0\n"
     ]
    },
    {
     "name": "stderr",
     "output_type": "stream",
     "text": [
      "C:\\Users\\forty\\AppData\\Local\\Temp\\ipykernel_9392\\3318805281.py:3: FutureWarning: A value is trying to be set on a copy of a DataFrame or Series through chained assignment using an inplace method.\n",
      "The behavior will change in pandas 3.0. This inplace method will never work because the intermediate object on which we are setting values always behaves as a copy.\n",
      "\n",
      "For example, when doing 'df[col].method(value, inplace=True)', try using 'df.method({col: value}, inplace=True)' or df[col] = df[col].method(value) instead, to perform the operation inplace on the original object.\n",
      "\n",
      "\n",
      "  df['Age'].fillna(df['Age'].mean(), inplace=True)\n",
      "C:\\Users\\forty\\AppData\\Local\\Temp\\ipykernel_9392\\3318805281.py:4: FutureWarning: A value is trying to be set on a copy of a DataFrame or Series through chained assignment using an inplace method.\n",
      "The behavior will change in pandas 3.0. This inplace method will never work because the intermediate object on which we are setting values always behaves as a copy.\n",
      "\n",
      "For example, when doing 'df[col].method(value, inplace=True)', try using 'df.method({col: value}, inplace=True)' or df[col] = df[col].method(value) instead, to perform the operation inplace on the original object.\n",
      "\n",
      "\n",
      "  df['Salary'].fillna(df['Salary'].mean(), inplace=True)\n"
     ]
    }
   ],
   "source": [
    "#Fill with column mean (for numerical columns):\n",
    "\n",
    "df['Age'].fillna(df['Age'].mean(), inplace=True)\n",
    "df['Salary'].fillna(df['Salary'].mean(), inplace=True)\n",
    "\n",
    "print(\"\\nFilled Age and Salary NaNs with column mean:\")\n",
    "print(df)\n"
   ]
  },
  {
   "cell_type": "markdown",
   "id": "d34db570-cc74-47e3-9647-3302627665e6",
   "metadata": {},
   "source": [
    "## Removing duplicates: df.drop_duplicates()"
   ]
  },
  {
   "cell_type": "code",
   "execution_count": 45,
   "id": "693e683a-c366-4f42-9692-f59d9672a167",
   "metadata": {},
   "outputs": [
    {
     "name": "stdout",
     "output_type": "stream",
     "text": [
      "Original DataFrame:\n",
      "    Name  Age     City\n",
      "0  Alice   25      NYC\n",
      "1    Bob   30       LA\n",
      "2  Alice   25      NYC\n",
      "3  David   22  Chicago\n",
      "4    Bob   30       LA\n"
     ]
    }
   ],
   "source": [
    "# Sample Dataset with Duplicates\n",
    "import pandas as pd\n",
    "\n",
    "# Sample data with duplicate rows\n",
    "data = {\n",
    "    'Name': ['Alice', 'Bob', 'Alice', 'David', 'Bob'],\n",
    "    'Age': [25, 30, 25, 22, 30],\n",
    "    'City': ['NYC', 'LA', 'NYC', 'Chicago', 'LA']\n",
    "}\n",
    "\n",
    "df = pd.DataFrame(data)\n",
    "print(\"Original DataFrame:\")\n",
    "print(df)\n"
   ]
  },
  {
   "cell_type": "code",
   "execution_count": 46,
   "id": "de44db3b-f3a5-4694-9b6e-b6450ccc586b",
   "metadata": {},
   "outputs": [
    {
     "name": "stdout",
     "output_type": "stream",
     "text": [
      "\n",
      "After dropping exact duplicate rows:\n",
      "    Name  Age     City\n",
      "0  Alice   25      NYC\n",
      "1    Bob   30       LA\n",
      "3  David   22  Chicago\n"
     ]
    }
   ],
   "source": [
    "#Remove Duplicate Rows\n",
    "\n",
    "#1 Remove exact duplicates:\n",
    "df_no_duplicates = df.drop_duplicates()\n",
    "print(\"\\nAfter dropping exact duplicate rows:\")\n",
    "print(df_no_duplicates)\n"
   ]
  },
  {
   "cell_type": "code",
   "execution_count": 47,
   "id": "2feb9675-f4be-4d2b-84eb-e5c50f8dde71",
   "metadata": {},
   "outputs": [
    {
     "name": "stdout",
     "output_type": "stream",
     "text": [
      "\n",
      "After dropping duplicates based on Name and Age:\n",
      "    Name  Age     City\n",
      "0  Alice   25      NYC\n",
      "1    Bob   30       LA\n",
      "3  David   22  Chicago\n"
     ]
    }
   ],
   "source": [
    "# Remove duplicates based on specific columns (e.g., just 'Name' and 'Age'):\n",
    "df_unique_name_age = df.drop_duplicates(subset=['Name', 'Age'])\n",
    "print(\"\\nAfter dropping duplicates based on Name and Age:\")\n",
    "print(df_unique_name_age)\n"
   ]
  },
  {
   "cell_type": "code",
   "execution_count": 48,
   "id": "d2d07b9a-3a67-4c02-82a4-0912f39a537f",
   "metadata": {},
   "outputs": [
    {
     "name": "stdout",
     "output_type": "stream",
     "text": [
      "\n",
      "Original DataFrame after inplace drop:\n",
      "    Name  Age     City\n",
      "0  Alice   25      NYC\n",
      "1    Bob   30       LA\n",
      "3  David   22  Chicago\n"
     ]
    }
   ],
   "source": [
    "# 3 Use inplace=True to modify original DataFrame\n",
    "df.drop_duplicates(inplace=True)\n",
    "print(\"\\nOriginal DataFrame after inplace drop:\")\n",
    "print(df)\n"
   ]
  },
  {
   "cell_type": "markdown",
   "id": "2c7fef54-9305-43ab-8b4c-9460fd6b5fd1",
   "metadata": {},
   "source": [
    "### Fixing data types: df['col'] = df['col'].astype(int)"
   ]
  },
  {
   "cell_type": "code",
   "execution_count": 20,
   "id": "70fcdead-a65f-4c3a-97f4-b38204d6797c",
   "metadata": {},
   "outputs": [
    {
     "name": "stdout",
     "output_type": "stream",
     "text": [
      "Original DataFrame and dtypes:\n",
      "      Name Age   Salary\n",
      "0    Alice  25  50000.0\n",
      "1      Bob  30  60000.5\n",
      "2  Charlie  35  55000.0\n",
      "\n",
      "Data types:\n",
      "Name      object\n",
      "Age       object\n",
      "Salary    object\n",
      "dtype: object\n"
     ]
    }
   ],
   "source": [
    "#Sample Dataset with Incorrect Data Types\n",
    "\n",
    "import pandas as pd\n",
    "\n",
    "# Sample data with incorrect data types (numbers stored as strings)\n",
    "data = {\n",
    "    'Name': ['Alice', 'Bob', 'Charlie'],\n",
    "    'Age': ['25', '30', '35'],         # should be integers\n",
    "    'Salary': ['50000.0', '60000.5', '55000.0']  # should be float\n",
    "}\n",
    "\n",
    "df = pd.DataFrame(data)\n",
    "print(\"Original DataFrame and dtypes:\")\n",
    "print(df)\n",
    "print(\"\\nData types:\")\n",
    "print(df.dtypes)\n"
   ]
  },
  {
   "cell_type": "code",
   "execution_count": 21,
   "id": "7c24d072-1d5a-46ca-80fd-4fd7c4417e0d",
   "metadata": {},
   "outputs": [
    {
     "name": "stdout",
     "output_type": "stream",
     "text": [
      "\n",
      "DataFrame after type conversion:\n",
      "      Name  Age   Salary\n",
      "0    Alice   25  50000.0\n",
      "1      Bob   30  60000.5\n",
      "2  Charlie   35  55000.0\n",
      "\n",
      "Updated data types:\n",
      "Name       object\n",
      "Age         int32\n",
      "Salary    float64\n",
      "dtype: object\n"
     ]
    }
   ],
   "source": [
    "# Convert 'Age' to integer and 'Salary' to float\n",
    "df['Age'] = df['Age'].astype(int)\n",
    "df['Salary'] = df['Salary'].astype(float)\n",
    "\n",
    "print(\"\\nDataFrame after type conversion:\")\n",
    "print(df)\n",
    "print(\"\\nUpdated data types:\")\n",
    "print(df.dtypes)\n"
   ]
  },
  {
   "cell_type": "markdown",
   "id": "0f48f626-c459-4d6c-8a2b-63582a3afd23",
   "metadata": {},
   "source": [
    "## Renaming columns: df.rename(columns={'old': 'new'})"
   ]
  },
  {
   "cell_type": "code",
   "execution_count": 22,
   "id": "586a90fc-11b3-4fd1-b3de-354048cacb6b",
   "metadata": {},
   "outputs": [
    {
     "name": "stdout",
     "output_type": "stream",
     "text": [
      "Original DataFrame:\n",
      "     fname  age_yrs city_name\n",
      "0    Alice       25       NYC\n",
      "1      Bob       30        LA\n",
      "2  Charlie       35   Chicago\n"
     ]
    }
   ],
   "source": [
    "import pandas as pd\n",
    "\n",
    "# Sample dataset with original column names\n",
    "data = {\n",
    "    'fname': ['Alice', 'Bob', 'Charlie'],\n",
    "    'age_yrs': [25, 30, 35],\n",
    "    'city_name': ['NYC', 'LA', 'Chicago']\n",
    "}\n",
    "\n",
    "df = pd.DataFrame(data)\n",
    "print(\"Original DataFrame:\")\n",
    "print(df)\n"
   ]
  },
  {
   "cell_type": "code",
   "execution_count": 23,
   "id": "238bebd4-a7a8-49ed-b2e5-85f109588d2c",
   "metadata": {},
   "outputs": [
    {
     "name": "stdout",
     "output_type": "stream",
     "text": [
      "\n",
      "Renamed DataFrame:\n",
      "      Name  Age     City\n",
      "0    Alice   25      NYC\n",
      "1      Bob   30       LA\n",
      "2  Charlie   35  Chicago\n"
     ]
    }
   ],
   "source": [
    "df_renamed = df.rename(columns={\n",
    "    'fname': 'Name',\n",
    "    'age_yrs': 'Age',\n",
    "    'city_name': 'City'\n",
    "})\n",
    "\n",
    "print(\"\\nRenamed DataFrame:\")\n",
    "print(df_renamed)\n"
   ]
  },
  {
   "cell_type": "code",
   "execution_count": 24,
   "id": "e874d718-a451-478a-97c4-b37cb7013c15",
   "metadata": {},
   "outputs": [
    {
     "name": "stdout",
     "output_type": "stream",
     "text": [
      "\n",
      "Original DataFrame after renaming (inplace):\n",
      "      Name  Age     City\n",
      "0    Alice   25      NYC\n",
      "1      Bob   30       LA\n",
      "2  Charlie   35  Chicago\n"
     ]
    }
   ],
   "source": [
    "# Rename Columns with inplace=True (modifies original DataFrame)\n",
    "df.rename(columns={\n",
    "    'fname': 'Name',\n",
    "    'age_yrs': 'Age',\n",
    "    'city_name': 'City'\n",
    "}, inplace=True)\n",
    "\n",
    "print(\"\\nOriginal DataFrame after renaming (inplace):\")\n",
    "print(df)\n"
   ]
  },
  {
   "cell_type": "markdown",
   "id": "18f1ab15-7896-41d4-972a-1ca91cc6246b",
   "metadata": {},
   "source": [
    "### What Are Outliers?\n",
    "Outliers are values that are significantly different from most other data points. They can skew your analysis or machine learning models.\n",
    "\n",
    "    Two Common Methods to Handle Outliers"
   ]
  },
  {
   "cell_type": "markdown",
   "id": "d377c8ff-040c-4f9f-8090-a2837408a8af",
   "metadata": {},
   "source": [
    "Interquartile Range (IQR) Method\n",
    "Steps:\n",
    "Calculate Q1 (25th percentile) and Q3 (75th percentile)\n",
    "\n",
    "Compute IQR = Q3 - Q1\n",
    "\n",
    "Define outlier bounds:\n",
    "\n",
    "Lower bound = Q1 - 1.5 × IQR\n",
    "\n",
    "Upper bound = Q3 + 1.5 × IQR\n",
    "\n",
    "Remove or mark outliers\n",
    "\n"
   ]
  },
  {
   "cell_type": "code",
   "execution_count": 25,
   "id": "3c0b7161-a93a-435b-b82f-8e7cf2e7c676",
   "metadata": {},
   "outputs": [
    {
     "name": "stdout",
     "output_type": "stream",
     "text": [
      "Original Data:\n",
      "     Salary\n",
      "0    45000\n",
      "1    47000\n",
      "2    48000\n",
      "3    49000\n",
      "4  1000000\n",
      "\n",
      "Filtered Data (IQR method):\n",
      "    Salary\n",
      "0   45000\n",
      "1   47000\n",
      "2   48000\n",
      "3   49000\n"
     ]
    }
   ],
   "source": [
    "import pandas as pd\n",
    "\n",
    "# Sample dataset\n",
    "data = {'Salary': [45000, 47000, 48000, 49000, 1000000]}  # last value is an outlier\n",
    "df = pd.DataFrame(data)\n",
    "\n",
    "# Calculate IQR\n",
    "Q1 = df['Salary'].quantile(0.25)\n",
    "Q3 = df['Salary'].quantile(0.75)\n",
    "IQR = Q3 - Q1\n",
    "\n",
    "# Define bounds\n",
    "lower_bound = Q1 - 1.5 * IQR\n",
    "upper_bound = Q3 + 1.5 * IQR\n",
    "\n",
    "# Filter out outliers\n",
    "df_no_outliers = df[(df['Salary'] >= lower_bound) & (df['Salary'] <= upper_bound)]\n",
    "\n",
    "print(\"Original Data:\\n\", df)\n",
    "print(\"\\nFiltered Data (IQR method):\\n\", df_no_outliers)\n"
   ]
  },
  {
   "cell_type": "markdown",
   "id": "56a9c59c-5404-409b-ba1c-05a1a5d7383d",
   "metadata": {},
   "source": [
    " B. Z-Score Method\n",
    "Steps:\n",
    "Compute Z-score = (x - mean) / std deviation\n",
    "\n",
    "Set a threshold (e.g., 3)\n",
    "\n",
    "Keep values where |Z| < threshold"
   ]
  },
  {
   "cell_type": "code",
   "execution_count": 26,
   "id": "eb65ee59-edef-49c4-a867-9548abd7a9b1",
   "metadata": {},
   "outputs": [
    {
     "name": "stdout",
     "output_type": "stream",
     "text": [
      "Filtered Data (Z-score method):\n",
      "     Salary\n",
      "0    45000\n",
      "1    47000\n",
      "2    48000\n",
      "3    49000\n",
      "4  1000000\n"
     ]
    }
   ],
   "source": [
    "from scipy import stats\n",
    "import numpy as np\n",
    "\n",
    "# Sample dataset\n",
    "df = pd.DataFrame({'Salary': [45000, 47000, 48000, 49000, 1000000]})\n",
    "\n",
    "# Calculate Z-scores\n",
    "z_scores = stats.zscore(df['Salary'])\n",
    "\n",
    "# Filter using Z-score threshold\n",
    "df_no_outliers = df[(np.abs(z_scores) < 3)]\n",
    "\n",
    "print(\"Filtered Data (Z-score method):\\n\", df_no_outliers)\n"
   ]
  },
  {
   "cell_type": "markdown",
   "id": "cb25357f-7dfc-4025-8707-39875769627e",
   "metadata": {},
   "source": [
    "### Exploratory Data Analysis (EDA) is the process of analyzing and visualizing data to:\n",
    "\n",
    "Understand structure, patterns, and relationships\n",
    "\n",
    "Identify missing values, outliers, or data quality issues\n",
    "\n",
    "Prepare for model building"
   ]
  },
  {
   "cell_type": "markdown",
   "id": "beb06b89-7316-4cb4-86a8-4baee5c1e898",
   "metadata": {},
   "source": [
    "### Sample Dataset: Titanic (from seaborn)\n"
   ]
  },
  {
   "cell_type": "code",
   "execution_count": 66,
   "id": "45f8381f-0393-48ac-a251-bd026e4ccdbc",
   "metadata": {},
   "outputs": [
    {
     "name": "stdout",
     "output_type": "stream",
     "text": [
      "Collecting seaborn\n",
      "  Using cached seaborn-0.13.2-py3-none-any.whl.metadata (5.4 kB)\n",
      "Requirement already satisfied: numpy!=1.24.0,>=1.20 in c:\\users\\sharon dobbin\\appdata\\local\\programs\\python\\python313\\lib\\site-packages (from seaborn) (2.1.3)\n",
      "Requirement already satisfied: pandas>=1.2 in c:\\users\\sharon dobbin\\appdata\\local\\programs\\python\\python313\\lib\\site-packages (from seaborn) (2.3.2)\n",
      "Requirement already satisfied: matplotlib!=3.6.1,>=3.4 in c:\\users\\sharon dobbin\\appdata\\local\\programs\\python\\python313\\lib\\site-packages (from seaborn) (3.9.3)\n",
      "Requirement already satisfied: contourpy>=1.0.1 in c:\\users\\sharon dobbin\\appdata\\local\\programs\\python\\python313\\lib\\site-packages (from matplotlib!=3.6.1,>=3.4->seaborn) (1.3.1)\n",
      "Requirement already satisfied: cycler>=0.10 in c:\\users\\sharon dobbin\\appdata\\local\\programs\\python\\python313\\lib\\site-packages (from matplotlib!=3.6.1,>=3.4->seaborn) (0.12.1)\n",
      "Requirement already satisfied: fonttools>=4.22.0 in c:\\users\\sharon dobbin\\appdata\\local\\programs\\python\\python313\\lib\\site-packages (from matplotlib!=3.6.1,>=3.4->seaborn) (4.55.1)\n",
      "Requirement already satisfied: kiwisolver>=1.3.1 in c:\\users\\sharon dobbin\\appdata\\local\\programs\\python\\python313\\lib\\site-packages (from matplotlib!=3.6.1,>=3.4->seaborn) (1.4.7)\n",
      "Requirement already satisfied: packaging>=20.0 in c:\\users\\sharon dobbin\\appdata\\local\\programs\\python\\python313\\lib\\site-packages (from matplotlib!=3.6.1,>=3.4->seaborn) (24.2)\n",
      "Requirement already satisfied: pillow>=8 in c:\\users\\sharon dobbin\\appdata\\local\\programs\\python\\python313\\lib\\site-packages (from matplotlib!=3.6.1,>=3.4->seaborn) (11.0.0)\n",
      "Requirement already satisfied: pyparsing>=2.3.1 in c:\\users\\sharon dobbin\\appdata\\local\\programs\\python\\python313\\lib\\site-packages (from matplotlib!=3.6.1,>=3.4->seaborn) (3.2.0)\n",
      "Requirement already satisfied: python-dateutil>=2.7 in c:\\users\\sharon dobbin\\appdata\\local\\programs\\python\\python313\\lib\\site-packages (from matplotlib!=3.6.1,>=3.4->seaborn) (2.9.0.post0)\n",
      "Requirement already satisfied: pytz>=2020.1 in c:\\users\\sharon dobbin\\appdata\\local\\programs\\python\\python313\\lib\\site-packages (from pandas>=1.2->seaborn) (2025.2)\n",
      "Requirement already satisfied: tzdata>=2022.7 in c:\\users\\sharon dobbin\\appdata\\local\\programs\\python\\python313\\lib\\site-packages (from pandas>=1.2->seaborn) (2025.2)\n",
      "Requirement already satisfied: six>=1.5 in c:\\users\\sharon dobbin\\appdata\\local\\programs\\python\\python313\\lib\\site-packages (from python-dateutil>=2.7->matplotlib!=3.6.1,>=3.4->seaborn) (1.17.0)\n",
      "Using cached seaborn-0.13.2-py3-none-any.whl (294 kB)\n",
      "Installing collected packages: seaborn\n",
      "Successfully installed seaborn-0.13.2\n",
      "Note: you may need to restart the kernel to use updated packages.\n"
     ]
    },
    {
     "name": "stderr",
     "output_type": "stream",
     "text": [
      "\n",
      "[notice] A new release of pip is available: 25.1.1 -> 25.2\n",
      "[notice] To update, run: python.exe -m pip install --upgrade pip\n"
     ]
    }
   ],
   "source": [
    "pip install seaborn"
   ]
  },
  {
   "cell_type": "code",
   "execution_count": 67,
   "id": "7c3f8dd0-76e6-4b11-9cf0-9fa7c79038d8",
   "metadata": {},
   "outputs": [
    {
     "data": {
      "text/html": [
       "<div>\n",
       "<style scoped>\n",
       "    .dataframe tbody tr th:only-of-type {\n",
       "        vertical-align: middle;\n",
       "    }\n",
       "\n",
       "    .dataframe tbody tr th {\n",
       "        vertical-align: top;\n",
       "    }\n",
       "\n",
       "    .dataframe thead th {\n",
       "        text-align: right;\n",
       "    }\n",
       "</style>\n",
       "<table border=\"1\" class=\"dataframe\">\n",
       "  <thead>\n",
       "    <tr style=\"text-align: right;\">\n",
       "      <th></th>\n",
       "      <th>survived</th>\n",
       "      <th>pclass</th>\n",
       "      <th>sex</th>\n",
       "      <th>age</th>\n",
       "      <th>sibsp</th>\n",
       "      <th>parch</th>\n",
       "      <th>fare</th>\n",
       "      <th>embarked</th>\n",
       "      <th>class</th>\n",
       "      <th>who</th>\n",
       "      <th>adult_male</th>\n",
       "      <th>deck</th>\n",
       "      <th>embark_town</th>\n",
       "      <th>alive</th>\n",
       "      <th>alone</th>\n",
       "    </tr>\n",
       "  </thead>\n",
       "  <tbody>\n",
       "    <tr>\n",
       "      <th>0</th>\n",
       "      <td>0</td>\n",
       "      <td>3</td>\n",
       "      <td>male</td>\n",
       "      <td>22.0</td>\n",
       "      <td>1</td>\n",
       "      <td>0</td>\n",
       "      <td>7.2500</td>\n",
       "      <td>S</td>\n",
       "      <td>Third</td>\n",
       "      <td>man</td>\n",
       "      <td>True</td>\n",
       "      <td>NaN</td>\n",
       "      <td>Southampton</td>\n",
       "      <td>no</td>\n",
       "      <td>False</td>\n",
       "    </tr>\n",
       "    <tr>\n",
       "      <th>1</th>\n",
       "      <td>1</td>\n",
       "      <td>1</td>\n",
       "      <td>female</td>\n",
       "      <td>38.0</td>\n",
       "      <td>1</td>\n",
       "      <td>0</td>\n",
       "      <td>71.2833</td>\n",
       "      <td>C</td>\n",
       "      <td>First</td>\n",
       "      <td>woman</td>\n",
       "      <td>False</td>\n",
       "      <td>C</td>\n",
       "      <td>Cherbourg</td>\n",
       "      <td>yes</td>\n",
       "      <td>False</td>\n",
       "    </tr>\n",
       "    <tr>\n",
       "      <th>2</th>\n",
       "      <td>1</td>\n",
       "      <td>3</td>\n",
       "      <td>female</td>\n",
       "      <td>26.0</td>\n",
       "      <td>0</td>\n",
       "      <td>0</td>\n",
       "      <td>7.9250</td>\n",
       "      <td>S</td>\n",
       "      <td>Third</td>\n",
       "      <td>woman</td>\n",
       "      <td>False</td>\n",
       "      <td>NaN</td>\n",
       "      <td>Southampton</td>\n",
       "      <td>yes</td>\n",
       "      <td>True</td>\n",
       "    </tr>\n",
       "    <tr>\n",
       "      <th>3</th>\n",
       "      <td>1</td>\n",
       "      <td>1</td>\n",
       "      <td>female</td>\n",
       "      <td>35.0</td>\n",
       "      <td>1</td>\n",
       "      <td>0</td>\n",
       "      <td>53.1000</td>\n",
       "      <td>S</td>\n",
       "      <td>First</td>\n",
       "      <td>woman</td>\n",
       "      <td>False</td>\n",
       "      <td>C</td>\n",
       "      <td>Southampton</td>\n",
       "      <td>yes</td>\n",
       "      <td>False</td>\n",
       "    </tr>\n",
       "    <tr>\n",
       "      <th>4</th>\n",
       "      <td>0</td>\n",
       "      <td>3</td>\n",
       "      <td>male</td>\n",
       "      <td>35.0</td>\n",
       "      <td>0</td>\n",
       "      <td>0</td>\n",
       "      <td>8.0500</td>\n",
       "      <td>S</td>\n",
       "      <td>Third</td>\n",
       "      <td>man</td>\n",
       "      <td>True</td>\n",
       "      <td>NaN</td>\n",
       "      <td>Southampton</td>\n",
       "      <td>no</td>\n",
       "      <td>True</td>\n",
       "    </tr>\n",
       "  </tbody>\n",
       "</table>\n",
       "</div>"
      ],
      "text/plain": [
       "   survived  pclass     sex   age  sibsp  parch     fare embarked  class  \\\n",
       "0         0       3    male  22.0      1      0   7.2500        S  Third   \n",
       "1         1       1  female  38.0      1      0  71.2833        C  First   \n",
       "2         1       3  female  26.0      0      0   7.9250        S  Third   \n",
       "3         1       1  female  35.0      1      0  53.1000        S  First   \n",
       "4         0       3    male  35.0      0      0   8.0500        S  Third   \n",
       "\n",
       "     who  adult_male deck  embark_town alive  alone  \n",
       "0    man        True  NaN  Southampton    no  False  \n",
       "1  woman       False    C    Cherbourg   yes  False  \n",
       "2  woman       False  NaN  Southampton   yes   True  \n",
       "3  woman       False    C  Southampton   yes  False  \n",
       "4    man        True  NaN  Southampton    no   True  "
      ]
     },
     "execution_count": 67,
     "metadata": {},
     "output_type": "execute_result"
    }
   ],
   "source": [
    "#Import Libraries and Load Dataset\n",
    "import pandas as pd\n",
    "import seaborn as sns\n",
    "import matplotlib.pyplot as plt\n",
    "\n",
    "# Load sample Titanic dataset\n",
    "df = sns.load_dataset('titanic')\n",
    "df.head()\n"
   ]
  },
  {
   "cell_type": "code",
   "execution_count": 64,
   "id": "99a06e4c-0029-43dc-9fba-05834a3eb9f4",
   "metadata": {},
   "outputs": [
    {
     "name": "stdout",
     "output_type": "stream",
     "text": [
      "<class 'pandas.core.frame.DataFrame'>\n",
      "RangeIndex: 5 entries, 0 to 4\n",
      "Data columns (total 3 columns):\n",
      " #   Column  Non-Null Count  Dtype  \n",
      "---  ------  --------------  -----  \n",
      " 0   Name    4 non-null      object \n",
      " 1   Age     4 non-null      float64\n",
      " 2   Salary  4 non-null      float64\n",
      "dtypes: float64(2), object(1)\n",
      "memory usage: 252.0+ bytes\n"
     ]
    },
    {
     "data": {
      "text/plain": [
       "Index(['Name', 'Age', 'Salary'], dtype='object')"
      ]
     },
     "execution_count": 64,
     "metadata": {},
     "output_type": "execute_result"
    }
   ],
   "source": [
    "#Basic Info and Summary\n",
    "df.info()        # Data types & non-null counts\n",
    "df.describe()    # Summary statistics for numeric columns\n",
    "df.shape         # (rows, columns)\n",
    "df.columns       # List of column names\n"
   ]
  },
  {
   "cell_type": "code",
   "execution_count": 30,
   "id": "3358c2f5-beaf-4a0c-9cfa-80e0cd86d859",
   "metadata": {},
   "outputs": [
    {
     "data": {
      "text/plain": [
       "survived         0\n",
       "pclass           0\n",
       "sex              0\n",
       "age            177\n",
       "sibsp            0\n",
       "parch            0\n",
       "fare             0\n",
       "embarked         2\n",
       "class            0\n",
       "who              0\n",
       "adult_male       0\n",
       "deck           688\n",
       "embark_town      2\n",
       "alive            0\n",
       "alone            0\n",
       "dtype: int64"
      ]
     },
     "execution_count": 30,
     "metadata": {},
     "output_type": "execute_result"
    }
   ],
   "source": [
    " # Check for Missing Values\n",
    "df.isnull().sum()\n"
   ]
  },
  {
   "cell_type": "code",
   "execution_count": 63,
   "id": "ee98b1df-4c7f-4b57-8ee9-c32fe1a35327",
   "metadata": {},
   "outputs": [
    {
     "name": "stdout",
     "output_type": "stream",
     "text": [
      "Categorical: ['Name']\n",
      "Numerical: ['Age', 'Salary']\n"
     ]
    }
   ],
   "source": [
    " #Categorical vs Numerical Columns - Categorical data are based on labels while Numerical - statistical analysis\n",
    "categorical_cols = df.select_dtypes(include='object').columns\n",
    "numerical_cols = df.select_dtypes(include='number').columns\n",
    "\n",
    "print(\"Categorical:\", categorical_cols.tolist())\n",
    "print(\"Numerical:\", numerical_cols.tolist())"
   ]
  },
  {
   "cell_type": "code",
   "execution_count": 32,
   "id": "f1cb0067-90eb-45b9-aaba-e32995e52a13",
   "metadata": {},
   "outputs": [
    {
     "data": {
      "image/png": "[encoded data removed]",
      "text/plain": [
       "<Figure size 640x480 with 1 Axes>"
      ]
     },
     "metadata": {},
     "output_type": "display_data"
    }
   ],
   "source": [
    "#Univariate Analysis\n",
    "\n",
    "#Numerical\n",
    "df['age'].hist(bins=20)\n",
    "plt.title(\"Age Distribution\")\n",
    "plt.xlabel(\"Age\")\n",
    "plt.ylabel(\"Count\")\n",
    "plt.show()\n"
   ]
  },
  {
   "cell_type": "code",
   "execution_count": 33,
   "id": "d454817c-862b-4ea5-8bb8-7df351615f75",
   "metadata": {},
   "outputs": [
    {
     "data": {
      "image/png": "[encoded data removed]",
      "text/plain": [
       "<Figure size 640x480 with 1 Axes>"
      ]
     },
     "metadata": {},
     "output_type": "display_data"
    }
   ],
   "source": [
    "#Categorical\n",
    "\n",
    "sns.countplot(x='sex', data=df)\n",
    "plt.title(\"Gender Count\")\n",
    "plt.show()\n"
   ]
  },
  {
   "cell_type": "code",
   "execution_count": 69,
   "id": "7d0fbeda-573d-4b54-ba4e-27b29c6c5d9a",
   "metadata": {},
   "outputs": [
    {
     "data": {
      "image/png": "[encoded data removed]",
      "text/plain": [
       "<Figure size 640x480 with 1 Axes>"
      ]
     },
     "metadata": {},
     "output_type": "display_data"
    }
   ],
   "source": [
    "#Bivariate Analysis\n",
    "#Survival rate by gender\n",
    "sns.barplot(x='sex', y='survived', data=df)\n",
    "plt.title(\"Survival Rate by Gender\")\n",
    "plt.show()\n"
   ]
  },
  {
   "cell_type": "code",
   "execution_count": 35,
   "id": "c358c104-9d9f-4484-97ba-7181757a0c9c",
   "metadata": {},
   "outputs": [
    {
     "data": {
      "image/png": "[encoded data removed]",
      "text/plain": [
       "<Figure size 640x480 with 1 Axes>"
      ]
     },
     "metadata": {},
     "output_type": "display_data"
    }
   ],
   "source": [
    "#Age vs Fare\n",
    "sns.scatterplot(x='age', y='fare', hue='survived', data=df)\n",
    "plt.title(\"Age vs Fare (colored by survival)\")\n",
    "plt.show()\n"
   ]
  },
  {
   "cell_type": "code",
   "execution_count": null,
   "id": "6efd1a09-0454-45ed-b241-7aaac072fe40",
   "metadata": {},
   "outputs": [],
   "source": []
  }
 ],
 "metadata": {
  "kernelspec": {
   "display_name": "Python 3 (ipykernel)",
   "language": "python",
   "name": "python3"
  },
  "language_info": {
   "codemirror_mode": {
    "name": "ipython",
    "version": 3
   },
   "file_extension": ".py",
   "mimetype": "text/x-python",
   "name": "python",
   "nbconvert_exporter": "python",
   "pygments_lexer": "ipython3",
   "version": "3.13.2"
  }
 },
 "nbformat": 4,
 "nbformat_minor": 5
}
